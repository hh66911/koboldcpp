{
 "cells": [
  {
   "cell_type": "code",
   "execution_count": 4,
   "metadata": {},
   "outputs": [
    {
     "name": "stdout",
     "output_type": "stream",
     "text": [
      "进入提示词模板生成函数\n",
      "生成的提示词完毕\n",
      "\n",
      "-------------------\n",
      "<|startoftext|><|im_start|>system\n",
      " fjdkls;hjkgl;fd<|im_end|>\n",
      "\n",
      "<|im_start|>abd\n",
      "fjkdls<|im_end|>\n",
      "\n",
      "<|im_start|>sd4\n",
      "fjdkslf<|im_end|>\n",
      "\n",
      "<|im_start|>fdjs\n",
      "jklhf<|im_end|>\n",
      "\n",
      "<|im_start|>memory\n",
      "gjkfldhsjk<|im_end|>\n",
      "\n",
      "<|im_start|>hjglkfkd\n",
      "kfld;s jklg\n",
      "-------------------\n",
      "\n",
      "-------------------\n",
      "\n",
      "\n",
      "======进入输出后处理函数======\n",
      "------输出前------\n",
      "fds\n",
      "fdsljgjkfld;skl;lklgfjd<|im_end|>\n",
      "<|im_start|>fdjk\n",
      "kfdl kl ghjklfjkhklgf  <|im_end|>\n",
      "------输出后------\n",
      "fds\n",
      "fdsljgjkfld;skl;lklgfjd\n",
      "fdjk: kfdl kl ghjklfjkhklgf\n",
      "\n",
      "======输出后处理完毕======\n",
      "\n",
      "\n",
      "ff: fds\n",
      "fdsljgjkfld;skl;lklgfjd\n",
      "fdjk: kfdl kl ghjklfjkhklgf\n",
      "\n"
     ]
    }
   ],
   "source": [
    "import koboldcpp_promt_template\n",
    "from importlib import reload\n",
    "reload(koboldcpp_promt_template)\n",
    "\n",
    "p_o = '''abd:fjkdls\n",
    "sd4: fjdkslf\n",
    "fdjs: jklhf\n",
    "hjglkfkd: kfld;s jklg<IgnoreFollowing>'''\n",
    "m_o = '''System: fjdkls;hjkgl;fd|gjkfldhsjk'''\n",
    "p, m = koboldcpp_promt_template.prompt_template(p_o, m_o)\n",
    "print('-------------------')\n",
    "print(p)\n",
    "print('-------------------')\n",
    "print(m)\n",
    "print('-------------------')\n",
    "\n",
    "outstr = '''fds\n",
    "fdsljgjkfld;skl;lklgfjd<|im_end|>\n",
    "<|im_start|>fdjk\n",
    "kfdl kl ghjklfjkhklgf  <|im_end|>'''\n",
    "outstr = koboldcpp_promt_template.out_post_process(outstr)\n",
    "print('ff: ' + outstr)"
   ]
  }
 ],
 "metadata": {
  "kernelspec": {
   "display_name": "Python 3",
   "language": "python",
   "name": "python3"
  },
  "language_info": {
   "codemirror_mode": {
    "name": "ipython",
    "version": 3
   },
   "file_extension": ".py",
   "mimetype": "text/x-python",
   "name": "python",
   "nbconvert_exporter": "python",
   "pygments_lexer": "ipython3",
   "version": "3.11.4"
  }
 },
 "nbformat": 4,
 "nbformat_minor": 2
}
